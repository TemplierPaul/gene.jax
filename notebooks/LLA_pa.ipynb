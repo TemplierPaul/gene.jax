{
 "cells": [
  {
   "cell_type": "code",
   "execution_count": 1,
   "metadata": {},
   "outputs": [],
   "source": [
    "from run_lla import run_lla_gymnax\n",
    "import jax.random as jrd\n",
    "import jax.numpy as jnp\n",
    "from jax import jit, vmap, default_backend"
   ]
  },
  {
   "cell_type": "code",
   "execution_count": 2,
   "metadata": {},
   "outputs": [],
   "source": [
    "N = 200"
   ]
  },
  {
   "cell_type": "code",
   "execution_count": 3,
   "metadata": {},
   "outputs": [],
   "source": [
    "run_lla_gymnax(\n",
    "    jrd.PRNGKey(0),\n",
    "    # run_name=\"arxaqapi/Cartpole Soft/8of12aj9\",\n",
    "    run_name=\"arxaqapi/Cartpole Soft/3ugflqlq\",\n",
    "    initial_genome_name=\"genomes/g0_mean_indiv.npy\",\n",
    "    final_genome_name=\"genomes/g100_mean_indiv.npy\",\n",
    "    title=\"LLA of PA\",\n",
    "    n=N,\n",
    ")"
   ]
  },
  {
   "cell_type": "code",
   "execution_count": 4,
   "metadata": {},
   "outputs": [],
   "source": [
    "from jax import lax, jit, vmap\n",
    "import jax.numpy as jnp\n",
    "import jax.random as jrd\n",
    "import wandb\n",
    "\n",
    "from gene.lla import load_genomes, interpolate_2D, plot_ll\n",
    "from gene.evaluate import evaluate_individual_soft\n",
    "\n",
    "from functools import partial\n",
    "\n",
    "\n",
    "def run_lla_gymnax_pa(\n",
    "    rng,\n",
    "    run_name: str = \"arxaqapi/Cartpole/qvobnkry\",  # direct | seed 9\n",
    "    initial_genome_name: str = \"genomes/1685094639_g0_mean_indiv.npy\",\n",
    "    final_genome_name: str = \"genomes/1685094639_g100_mean_indiv.npy\",\n",
    "    title: str = \"\",\n",
    "):\n",
    "    rng, interpolation_rng, eval_rng, rng_action_sampling = jrd.split(rng, 4)\n",
    "\n",
    "    # NOTE - 1. download files from run\n",
    "    api = wandb.Api()\n",
    "    run = api.run(run_name)\n",
    "    config = run.config\n",
    "\n",
    "    path_initial = run.file(initial_genome_name).download(replace=True).name\n",
    "    path_final = run.file(final_genome_name).download(replace=True).name\n",
    "\n",
    "    # NOTE - 2. load files\n",
    "    initial_genome, final_genome = load_genomes(path_initial, path_final)\n",
    "\n",
    "    # NOTE - 3. interpolate\n",
    "    genomes, xs, ys = interpolate_2D(\n",
    "        initial_genome, final_genome, n=N, key=interpolation_rng\n",
    "    )\n",
    "\n",
    "    # NOTE - 4. evaluate at each interpolation step\n",
    "    #\n",
    "    part_eval = partial(\n",
    "        evaluate_individual_soft,\n",
    "        config=config,\n",
    "        rng=eval_rng,\n",
    "        rng_action_sampling=rng_action_sampling,\n",
    "    )\n",
    "    vmap_eval = jit(vmap(part_eval, in_axes=(0)))\n",
    "\n",
    "    values = vmap_eval(genomes)\n",
    "\n",
    "    # NOTE - 5. plot landscape\n",
    "    plot_ll(\n",
    "        values,\n",
    "        xs,\n",
    "        ys,\n",
    "        evaluate_individual_soft(initial_genome, eval_rng, rng_action_sampling, config),\n",
    "        evaluate_individual_soft(final_genome, eval_rng, rng_action_sampling, config),\n",
    "        title=title,\n",
    "    )"
   ]
  },
  {
   "cell_type": "code",
   "execution_count": 5,
   "metadata": {},
   "outputs": [],
   "source": [
    "run_lla_gymnax_pa(\n",
    "    jrd.PRNGKey(0),\n",
    "    run_name=\"arxaqapi/Cartpole Soft/3ugflqlq\",\n",
    "    initial_genome_name=\"genomes/g0_mean_indiv.npy\",\n",
    "    final_genome_name=\"genomes/g100_mean_indiv.npy\",\n",
    "    title=\"LLA of PA\",\n",
    ")"
   ]
  },
  {
   "cell_type": "code",
   "execution_count": null,
   "metadata": {},
   "outputs": [],
   "source": []
  }
 ],
 "metadata": {
  "kernelspec": {
   "display_name": "Python 3",
   "language": "python",
   "name": "python3"
  },
  "language_info": {
   "codemirror_mode": {
    "name": "ipython",
    "version": 3
   },
   "file_extension": ".py",
   "mimetype": "text/x-python",
   "name": "python",
   "nbconvert_exporter": "python",
   "pygments_lexer": "ipython3",
   "version": "3.9.16"
  },
  "orig_nbformat": 4
 },
 "nbformat": 4,
 "nbformat_minor": 2
}
