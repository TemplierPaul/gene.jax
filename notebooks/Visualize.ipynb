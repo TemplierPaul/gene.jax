{
 "cells": [
  {
   "cell_type": "code",
   "execution_count": 1,
   "metadata": {},
   "outputs": [],
   "source": [
    "import sys\n",
    "import wandb\n",
    "\n",
    "sys.path.append(\"..\")\n",
    "\n",
    "import jax.numpy as jnp\n",
    "\n",
    "from gene.visualize.visualize_brax import visualize_brax, render_brax\n",
    "from gene.core.models import BoundedLinearModelConf\n",
    "from gene.core.distances import Distance_functions"
   ]
  },
  {
   "attachments": {},
   "cell_type": "markdown",
   "metadata": {},
   "source": [
    "# Visualize the final learned policy network"
   ]
  },
  {
   "cell_type": "code",
   "execution_count": 2,
   "metadata": {},
   "outputs": [],
   "source": [
    "run_id = \"arxaqapi/Brax expe bench test/8wmk7xqh\"\n",
    "genome_id = f\"run_{run_id.split('/')[-1]}_final_best_indiv.npy\""
   ]
  },
  {
   "cell_type": "code",
   "execution_count": 4,
   "metadata": {},
   "outputs": [],
   "source": [
    "api = wandb.Api()\n",
    "run = api.run(run_id)\n",
    "config = run.config\n",
    "\n",
    "with open(run.file(f\"genomes/{genome_id}\").download(replace=True).name, \"rb\") as f:\n",
    "    genome = jnp.load(f)"
   ]
  },
  {
   "cell_type": "code",
   "execution_count": 6,
   "metadata": {},
   "outputs": [],
   "source": [
    "render_brax(\n",
    "    *visualize_brax(\n",
    "        config,\n",
    "        genome,\n",
    "        model=BoundedLinearModelConf(config),\n",
    "        df=Distance_functions[config[\"encoding\"][\"distance\"]](),\n",
    "    ),\n",
    "    f\"{genome_id[:-4]}\",\n",
    ")"
   ]
  },
  {
   "cell_type": "code",
   "execution_count": null,
   "metadata": {},
   "outputs": [],
   "source": []
  }
 ],
 "metadata": {
  "kernelspec": {
   "display_name": "Python 3",
   "language": "python",
   "name": "python3"
  },
  "language_info": {
   "codemirror_mode": {
    "name": "ipython",
    "version": 3
   },
   "file_extension": ".py",
   "mimetype": "text/x-python",
   "name": "python",
   "nbconvert_exporter": "python",
   "pygments_lexer": "ipython3",
   "version": "3.9.16"
  },
  "orig_nbformat": 4
 },
 "nbformat": 4,
 "nbformat_minor": 2
}
