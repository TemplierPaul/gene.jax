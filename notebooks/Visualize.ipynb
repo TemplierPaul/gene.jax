{
 "cells": [
  {
   "cell_type": "code",
   "execution_count": 1,
   "metadata": {},
   "outputs": [],
   "source": [
    "import sys\n",
    "\n",
    "sys.path.append(\"..\")"
   ]
  },
  {
   "attachments": {},
   "cell_type": "markdown",
   "metadata": {},
   "source": [
    "# Visualize the final learned policy network"
   ]
  },
  {
   "attachments": {},
   "cell_type": "markdown",
   "metadata": {},
   "source": [
    "Helper function"
   ]
  },
  {
   "cell_type": "code",
   "execution_count": 2,
   "metadata": {},
   "outputs": [],
   "source": [
    "def save_html(html_string: str, name: str):\n",
    "    with open(f\"{name}.html\", \"w\") as f:\n",
    "        f.writelines(html_string)"
   ]
  },
  {
   "attachments": {},
   "cell_type": "markdown",
   "metadata": {},
   "source": [
    "Perform a forward pass and save the pipeline"
   ]
  },
  {
   "cell_type": "code",
   "execution_count": 3,
   "metadata": {},
   "outputs": [],
   "source": [
    "from gene.visualization import visualize_brax\n",
    "import jax.numpy as jnp\n",
    "from brax.io import html\n",
    "import wandb"
   ]
  },
  {
   "cell_type": "code",
   "execution_count": 4,
   "metadata": {},
   "outputs": [],
   "source": [
    "run_id = \"arxaqapi/Brax halfcheetah/u6k6ki4q\"  # gene\n",
    "# run_id = \"arxaqapi/Brax halfcheetah/bf6jkz5y\"  # direct\n",
    "genome_id = \"g010\""
   ]
  },
  {
   "cell_type": "code",
   "execution_count": 5,
   "metadata": {},
   "outputs": [],
   "source": [
    "# get config and last genome (wdb) | 1m22\n",
    "api = wandb.Api()\n",
    "run = api.run(run_id)\n",
    "config = run.config\n",
    "\n",
    "with open(\n",
    "    run.file(f\"genomes/{genome_id}_mean_indiv.npy\").download(replace=True).name, \"rb\"\n",
    ") as f:\n",
    "    genome = jnp.load(f)\n",
    "\n",
    "env, pipeline_states = visualize_brax(config, genome)"
   ]
  },
  {
   "cell_type": "code",
   "execution_count": 6,
   "metadata": {},
   "outputs": [],
   "source": [
    "html_string = html.render(\n",
    "    env.sys.replace(dt=env.dt), pipeline_states, height=\"100vh\", colab=False\n",
    ")\n",
    "\n",
    "save_html(html_string, \"halfcheetah_gene\")"
   ]
  }
 ],
 "metadata": {
  "kernelspec": {
   "display_name": "Python 3",
   "language": "python",
   "name": "python3"
  },
  "language_info": {
   "codemirror_mode": {
    "name": "ipython",
    "version": 3
   },
   "file_extension": ".py",
   "mimetype": "text/x-python",
   "name": "python",
   "nbconvert_exporter": "python",
   "pygments_lexer": "ipython3",
   "version": "3.9.16"
  },
  "orig_nbformat": 4
 },
 "nbformat": 4,
 "nbformat_minor": 2
}
